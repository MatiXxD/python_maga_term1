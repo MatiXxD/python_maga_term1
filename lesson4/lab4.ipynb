{
 "cells": [
  {
   "cell_type": "markdown",
   "id": "9e720ad4-b829-4e8d-a55d-770e6a3ddd7b",
   "metadata": {},
   "source": [
    "# Словари"
   ]
  },
  {
   "cell_type": "markdown",
   "id": "12362d18-530c-480a-b408-fc5ced2d4250",
   "metadata": {},
   "source": [
    "## Задача 1"
   ]
  },
  {
   "cell_type": "code",
   "execution_count": 8,
   "id": "02ab709a-ee34-456a-bf9c-772809657063",
   "metadata": {},
   "outputs": [
    {
     "name": "stdout",
     "output_type": "stream",
     "text": [
      "питон по-английски будет python\n",
      "анаконда по-английски будет anaconda\n",
      "змея по-английски будет snake\n",
      "черепаха по-английски будет tortoise\n"
     ]
    }
   ],
   "source": [
    "rept = {\"python\" : \"питон\", \"anaconda\" : \"анаконда\", \"tortoize\" : \"черепаха\" }\n",
    "\n",
    "rept[\"snake\"] = \"змея\"\n",
    "rept[\"tortoise\"] = rept.pop(\"tortoize\")\n",
    "for key, val in rept.items():\n",
    "    print(f\"{val} по-английски будет {key}\")"
   ]
  },
  {
   "cell_type": "markdown",
   "id": "a5cf9823-a2d5-4a49-b3cd-6dcac32b0ddd",
   "metadata": {},
   "source": [
    "## Задача 2"
   ]
  },
  {
   "cell_type": "code",
   "execution_count": 2,
   "id": "b4f6fc1f-1a33-45a4-8454-d9b8a4a79031",
   "metadata": {},
   "outputs": [
    {
     "name": "stdout",
     "output_type": "stream",
     "text": [
      "{'Andorra': 1.0, 'Belarus': 6.0, 'Denmark': 1.0, 'Kenya': 4.0, 'Jamaica': 2.5, 'Romania': 2.0}\n"
     ]
    }
   ],
   "source": [
    "cnt = [\"Andorra\", \"Belarus\", \"Denmark\", \"Kenya\", \"Jamaica\", \"Romania\"]\n",
    "fh = [1.0, 6.0, 1.0, 4.0, 2.5, 2.0]\n",
    "\n",
    "dct = dict(zip(cnt, fh))\n",
    "print(dct)"
   ]
  },
  {
   "cell_type": "markdown",
   "id": "1e85609e-7489-441e-a232-6d4f5b4dd272",
   "metadata": {},
   "source": [
    "## Задача 3"
   ]
  },
  {
   "cell_type": "code",
   "execution_count": 20,
   "id": "e8cc1dbb-e457-43b7-a904-11a04a5f6f98",
   "metadata": {},
   "outputs": [
    {
     "name": "stdout",
     "output_type": "stream",
     "text": [
      "{'Alex': 18, 'Tim': 32, 'Anna': 11, 'Sam': 42}\n",
      "Списки имеют разную длину\n",
      "{}\n"
     ]
    }
   ],
   "source": [
    "def createDict(names, ages):\n",
    "    if len(names) != len(ages):\n",
    "        print(\"Списки имеют разную длину\")\n",
    "        return dict()\n",
    "    else:\n",
    "        return dict(zip(names, ages))\n",
    "\n",
    "names = [\"Alex\", \"Tim\", \"Anna\", \"Sam\"]\n",
    "ages = [18, 32, 11, 42]\n",
    "print(createDict(names, ages))\n",
    "\n",
    "ages = [18, 32, 11]\n",
    "print(createDict(names, ages))"
   ]
  },
  {
   "cell_type": "markdown",
   "id": "760ff3bd-311a-43a7-9146-b7b8c5f8fb99",
   "metadata": {},
   "source": [
    "## Задача 4"
   ]
  },
  {
   "cell_type": "code",
   "execution_count": 43,
   "id": "abc2735d-c96c-4546-be9c-48cd7a402d93",
   "metadata": {},
   "outputs": [
    {
     "name": "stdout",
     "output_type": "stream",
     "text": [
      "{}\n",
      "{'Alex': {'math': 5}}\n",
      "Оценка изменена\n",
      "{'Alex': {'math': 4}}\n",
      "{'Alex': {'math': 4}, 'Danya': {'math': 4}}\n",
      "{'Alex': {'math': 4}, 'Danya': {'math': 4, 'rus': 4}}\n",
      "Оценка по дисциплине rus уже существует\n",
      "{'Alex': {'math': 4}, 'Danya': {'math': 4, 'rus': 4}}\n",
      "Оценка изменена\n",
      "{'Alex': {'math': 4}, 'Danya': {'math': 4, 'rus': 1}}\n"
     ]
    }
   ],
   "source": [
    "data = dict()\n",
    "\n",
    "def updateStudent(dct):\n",
    "    global data\n",
    "\n",
    "    data[dct[\"name\"]] = data.get(dct[\"name\"], dict())\n",
    "    if dct[\"subject\"] in data[dct[\"name\"]].keys():\n",
    "        if dct[\"mark\"] != data[dct[\"name\"]][dct[\"subject\"]]:\n",
    "            data[dct[\"name\"]][dct[\"subject\"]] = dct[\"mark\"]\n",
    "            print(\"Оценка изменена\")\n",
    "        else:\n",
    "            subject = dct[\"subject\"]\n",
    "            print(f\"Оценка по дисциплине {subject} уже существует\")\n",
    "    else:\n",
    "        data[dct[\"name\"]][dct[\"subject\"]] = dct[\"mark\"]\n",
    "    \n",
    "    \n",
    "print(data)\n",
    "updateStudent({\"name\" : \"Alex\", \"subject\" : \"math\", \"mark\" : 5}); print(data)\n",
    "updateStudent({\"name\" : \"Alex\", \"subject\" : \"math\", \"mark\" : 4}); print(data)\n",
    "updateStudent({\"name\" : \"Danya\", \"subject\" : \"math\", \"mark\" : 4}); print(data)\n",
    "updateStudent({\"name\" : \"Danya\", \"subject\" : \"rus\", \"mark\" : 4}); print(data)\n",
    "updateStudent({\"name\" : \"Danya\", \"subject\" : \"rus\", \"mark\" : 4}); print(data)\n",
    "updateStudent({\"name\" : \"Danya\", \"subject\" : \"rus\", \"mark\" : 1}); print(data)"
   ]
  },
  {
   "cell_type": "markdown",
   "id": "efa448cf-9439-4f4e-b5e6-2f8f7c81088c",
   "metadata": {},
   "source": [
    "## Задача 5"
   ]
  },
  {
   "cell_type": "code",
   "execution_count": 9,
   "id": "b119f82f-a1e2-4925-b655-9440e250c29b",
   "metadata": {},
   "outputs": [
    {
     "name": "stdout",
     "output_type": "stream",
     "text": [
      "shirt\n"
     ]
    }
   ],
   "source": [
    "products = [{\"product\" : \"shirt\", \"number\" : 10}, {\"product\" : \"jeans\", \"number\" : 5}, {\"product\" : \"shuffle\", \"number\" : 4}]\n",
    "maxProduct = max(products, key = lambda x: x[\"number\"])\n",
    "print(maxProduct[\"product\"])"
   ]
  },
  {
   "cell_type": "markdown",
   "id": "74c596ec-017d-4a28-95d0-7a6b07168798",
   "metadata": {},
   "source": [
    "# Файлы"
   ]
  },
  {
   "cell_type": "markdown",
   "id": "768ca243-9bf4-450f-9c0a-ec0e673803aa",
   "metadata": {},
   "source": [
    "## Задача 6"
   ]
  },
  {
   "cell_type": "code",
   "execution_count": 23,
   "id": "3bbbec0e-7081-47a9-976d-2d54c3ea0f5f",
   "metadata": {},
   "outputs": [
    {
     "data": {
      "text/plain": [
       "0"
      ]
     },
     "execution_count": 23,
     "metadata": {},
     "output_type": "execute_result"
    },
    {
     "name": "stdout",
     "output_type": "stream",
     "text": [
      "Denisenko Ilya Romanovich\n",
      "My age is 54\n"
     ]
    }
   ],
   "source": [
    "from os import system\n",
    "\n",
    "def writeAge(path, age):\n",
    "    with open(path, 'a') as file:\n",
    "        file.write(f\"My age is {age}\\n\")\n",
    "\n",
    "fileName = \"task6.txt\"\n",
    "writeAge(fileName, 54)\n",
    "system(f\"cat {fileName}\")"
   ]
  },
  {
   "cell_type": "markdown",
   "id": "0d6cc8df-cc7a-4737-a7bb-4972f8f8ad02",
   "metadata": {},
   "source": [
    "# Задача со звездой"
   ]
  },
  {
   "cell_type": "markdown",
   "id": "9d60dd90-a89c-4019-ac13-1edc5bb58f24",
   "metadata": {},
   "source": [
    "## Задача 1"
   ]
  },
  {
   "cell_type": "code",
   "execution_count": null,
   "id": "79ad5bcc-9952-4912-bc7b-c30c763a0b7e",
   "metadata": {},
   "outputs": [],
   "source": []
  },
  {
   "cell_type": "code",
   "execution_count": null,
   "id": "0a1d21df-cf59-481e-9db5-0a6e18d4c308",
   "metadata": {},
   "outputs": [],
   "source": []
  }
 ],
 "metadata": {
  "kernelspec": {
   "display_name": "Python 3 (ipykernel)",
   "language": "python",
   "name": "python3"
  },
  "language_info": {
   "codemirror_mode": {
    "name": "ipython",
    "version": 3
   },
   "file_extension": ".py",
   "mimetype": "text/x-python",
   "name": "python",
   "nbconvert_exporter": "python",
   "pygments_lexer": "ipython3",
   "version": "3.10.12"
  }
 },
 "nbformat": 4,
 "nbformat_minor": 5
}
