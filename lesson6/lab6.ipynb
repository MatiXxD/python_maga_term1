{
 "cells": [
  {
   "cell_type": "markdown",
   "id": "36443754-6254-4fdd-9b3d-11f1981ef971",
   "metadata": {},
   "source": [
    "# Лабораторная работа №6"
   ]
  },
  {
   "cell_type": "code",
   "execution_count": 53,
   "id": "c6dba740-008d-4716-a49e-a5d1c85e4072",
   "metadata": {},
   "outputs": [],
   "source": [
    "import re"
   ]
  },
  {
   "cell_type": "markdown",
   "id": "f08ee22f-da8a-4313-87bd-2e545d52bcbd",
   "metadata": {},
   "source": [
    "## Задача 1"
   ]
  },
  {
   "cell_type": "code",
   "execution_count": 14,
   "id": "eb572b03-f6a1-452d-9e0a-697d2b0f4cb4",
   "metadata": {},
   "outputs": [
    {
     "name": "stdout",
     "output_type": "stream",
     "text": [
      "124.2\n",
      "There were no numeric elements in the list\n"
     ]
    }
   ],
   "source": [
    "def mySum(lst):\n",
    "    sum = 0; count = 0\n",
    "    \n",
    "    for num in lst:\n",
    "        try:\n",
    "            sum += float(num)\n",
    "        except:\n",
    "            sum -= 1\n",
    "            count += 1\n",
    "            \n",
    "    if count == len(lst): raise Exception(\"There were no numeric elements in the list\")    \n",
    "    return sum\n",
    "\n",
    "try:\n",
    "    print(mySum([\"1\", 123, \"1.2\", \"abc\"]))\n",
    "except Exception as err:\n",
    "    print(err)\n",
    "\n",
    "try:\n",
    "    print(mySum([\"a\", \"abc\"]))\n",
    "except Exception as err:\n",
    "    print(err)"
   ]
  },
  {
   "cell_type": "markdown",
   "id": "57180508-a4f9-44f5-9c2b-a9b32a86c138",
   "metadata": {},
   "source": [
    "## Задача 2"
   ]
  },
  {
   "cell_type": "code",
   "execution_count": 20,
   "id": "0827c454-eece-443c-9e82-fd5d42d44bed",
   "metadata": {},
   "outputs": [
    {
     "name": "stdout",
     "output_type": "stream",
     "text": [
      "[{'new_key': 'with_map'}, {'new_key': 'with_map'}, {'new_key': 'with_map'}]\n"
     ]
    }
   ],
   "source": [
    "def foo(d):\n",
    "    d.update({'new_key' : 'with_map'})\n",
    "    return d\n",
    "\n",
    "lst = [{}, {}, {}]\n",
    "print(list(map(foo, lst)))"
   ]
  },
  {
   "cell_type": "markdown",
   "id": "4b973cdc-1a0c-430b-a531-57b9cb5bbbe2",
   "metadata": {},
   "source": [
    "## Задача 3"
   ]
  },
  {
   "cell_type": "code",
   "execution_count": 25,
   "id": "6caf6ccc-ad57-45a4-8909-c8f2458098c2",
   "metadata": {},
   "outputs": [
    {
     "name": "stdout",
     "output_type": "stream",
     "text": [
      "[2, 4, 5]\n"
     ]
    }
   ],
   "source": [
    "a = [-1, 2, -3, 4, 5]\n",
    "print(list(filter(lambda num : num > 0, a)))"
   ]
  },
  {
   "cell_type": "markdown",
   "id": "1fca32bb-d1d8-47c3-a144-82bdee8f5f23",
   "metadata": {},
   "source": [
    "## Задача 4"
   ]
  },
  {
   "cell_type": "code",
   "execution_count": 59,
   "id": "4af7a7b3-cb3f-40a2-8ff0-ce3ab9dfd884",
   "metadata": {},
   "outputs": [
    {
     "name": "stdout",
     "output_type": "stream",
     "text": [
      "[1, 0, 1, 1, 0, 0, 1, 1]\n"
     ]
    }
   ],
   "source": [
    "a = [1, 2, 3, 3, 4, 6, 1, 2]\n",
    "b = [4, 1, 6, 6, 3, 4, 1, 4]\n",
    "\n",
    "print(list(map(lambda x, y: 0 if x > y else 1, a, b)))"
   ]
  },
  {
   "cell_type": "markdown",
   "id": "dda2603d-185c-4c99-8d22-fa5b43b204ac",
   "metadata": {},
   "source": [
    "## Задача 5"
   ]
  },
  {
   "cell_type": "code",
   "execution_count": 52,
   "id": "6b5990a9-8d69-4637-b6c1-17498d5bc259",
   "metadata": {},
   "outputs": [
    {
     "name": "stdout",
     "output_type": "stream",
     "text": [
      "0.5\n",
      "0.25\n",
      "0.125\n",
      "0.0625\n",
      "0.03125\n",
      "0.015625\n",
      "0.0078125\n",
      "0.00390625\n",
      "0.001953125\n",
      "0.0009765625\n",
      "0.00048828125\n",
      "0.000244140625\n",
      "0.0001220703125\n",
      "6.103515625e-05\n",
      "3.0517578125e-05\n",
      "1.52587890625e-05\n",
      "7.62939453125e-06\n",
      "3.814697265625e-06\n",
      "1.9073486328125e-06\n",
      "9.5367431640625e-07\n",
      "4.76837158203125e-07\n",
      "2.384185791015625e-07\n",
      "1.1920928955078125e-07\n",
      "5.960464477539063e-08\n",
      "2.9802322387695312e-08\n",
      "1.4901161193847656e-08\n",
      "7.450580596923828e-09\n",
      "3.725290298461914e-09\n",
      "1.862645149230957e-09\n",
      "9.313225746154785e-10\n",
      "4.656612873077393e-10\n",
      "2.3283064365386963e-10\n",
      "1.1641532182693481e-10\n",
      "5.820766091346741e-11\n",
      "2.9103830456733704e-11\n",
      "1.4551915228366852e-11\n",
      "7.275957614183426e-12\n",
      "3.637978807091713e-12\n",
      "1.8189894035458565e-12\n",
      "9.094947017729282e-13\n",
      "4.547473508864641e-13\n",
      "2.2737367544323206e-13\n",
      "1.1368683772161603e-13\n",
      "5.684341886080802e-14\n",
      "2.842170943040401e-14\n",
      "1.4210854715202004e-14\n",
      "7.105427357601002e-15\n",
      "3.552713678800501e-15\n",
      "1.7763568394002505e-15\n",
      "8.881784197001252e-16\n",
      "4.440892098500626e-16\n",
      "2.220446049250313e-16\n",
      "1.1102230246251565e-16\n",
      "5.551115123125783e-17\n",
      "2.7755575615628914e-17\n",
      "1.3877787807814457e-17\n",
      "6.938893903907228e-18\n",
      "3.469446951953614e-18\n",
      "1.734723475976807e-18\n",
      "8.673617379884035e-19\n",
      "4.336808689942018e-19\n",
      "2.168404344971009e-19\n",
      "1.0842021724855044e-19\n",
      "5.421010862427522e-20\n",
      "2.710505431213761e-20\n",
      "1.3552527156068805e-20\n",
      "6.776263578034403e-21\n",
      "3.3881317890172014e-21\n",
      "1.6940658945086007e-21\n",
      "8.470329472543003e-22\n",
      "4.235164736271502e-22\n",
      "2.117582368135751e-22\n",
      "1.0587911840678754e-22\n",
      "5.293955920339377e-23\n",
      "2.6469779601696886e-23\n",
      "1.3234889800848443e-23\n",
      "6.617444900424222e-24\n",
      "3.308722450212111e-24\n",
      "1.6543612251060553e-24\n",
      "8.271806125530277e-25\n",
      "4.1359030627651384e-25\n",
      "2.0679515313825692e-25\n",
      "1.0339757656912846e-25\n",
      "5.169878828456423e-26\n",
      "2.5849394142282115e-26\n",
      "1.2924697071141057e-26\n",
      "6.462348535570529e-27\n",
      "3.2311742677852644e-27\n",
      "1.6155871338926322e-27\n",
      "8.077935669463161e-28\n",
      "4.0389678347315804e-28\n",
      "2.0194839173657902e-28\n",
      "1.0097419586828951e-28\n",
      "5.048709793414476e-29\n",
      "2.524354896707238e-29\n",
      "1.262177448353619e-29\n",
      "6.310887241768095e-30\n",
      "3.1554436208840472e-30\n",
      "1.5777218104420236e-30\n",
      "7.888609052210118e-31\n"
     ]
    }
   ],
   "source": [
    "def geomGenerator(val):\n",
    "    while True:\n",
    "        val /= 2\n",
    "        yield val\n",
    "\n",
    "iter = geomGenerator(1)\n",
    "for i in range(0, 100):\n",
    "    print(next(iter))"
   ]
  },
  {
   "cell_type": "markdown",
   "id": "7da8767d-6d67-42b1-a77f-868686dd71e1",
   "metadata": {},
   "source": [
    "## Задача 6"
   ]
  },
  {
   "cell_type": "code",
   "execution_count": 58,
   "id": "3c163c1a-0a4c-4031-a4a4-de469e989a07",
   "metadata": {},
   "outputs": [
    {
     "name": "stdout",
     "output_type": "stream",
     "text": [
      "[17, 123, 81, 12]\n"
     ]
    }
   ],
   "source": [
    "testString = \"anf 17u fkjgktjg 123 gvbnn 81 jfjgj 12\"\n",
    "print(list(map(int, re.findall(\"[0-9]+\", testString))))"
   ]
  },
  {
   "cell_type": "code",
   "execution_count": null,
   "id": "aa4eccad-ebc0-4f1e-88f9-72421d7b1312",
   "metadata": {},
   "outputs": [],
   "source": []
  }
 ],
 "metadata": {
  "kernelspec": {
   "display_name": "Python 3 (ipykernel)",
   "language": "python",
   "name": "python3"
  },
  "language_info": {
   "codemirror_mode": {
    "name": "ipython",
    "version": 3
   },
   "file_extension": ".py",
   "mimetype": "text/x-python",
   "name": "python",
   "nbconvert_exporter": "python",
   "pygments_lexer": "ipython3",
   "version": "3.10.12"
  }
 },
 "nbformat": 4,
 "nbformat_minor": 5
}
