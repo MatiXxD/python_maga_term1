{
 "cells": [
  {
   "cell_type": "markdown",
   "id": "a32898c5-51fc-4fb1-9d6c-643e092d9350",
   "metadata": {},
   "source": [
    "# Строки"
   ]
  },
  {
   "cell_type": "markdown",
   "id": "735630e4-f834-4307-a42f-5bc59d499d7a",
   "metadata": {},
   "source": [
    "## Задание 1"
   ]
  },
  {
   "cell_type": "code",
   "execution_count": 6,
   "id": "5a0f59fc-e1cb-4e05-8956-df1b1860fde8",
   "metadata": {},
   "outputs": [
    {
     "name": "stdout",
     "output_type": "stream",
     "text": [
      "3\n"
     ]
    }
   ],
   "source": [
    "count = 0\n",
    "\n",
    "str = \"аовылфд еаывфод ываоалджы евыа ожффыао фыож евфыдо\"\n",
    "for word in str.split():\n",
    "    if word.startswith('е'): count += 1\n",
    "print(count)"
   ]
  },
  {
   "cell_type": "markdown",
   "id": "a37876a9-ea34-4288-8c9b-8d4ae78ee6ce",
   "metadata": {},
   "source": [
    "## Задание 2"
   ]
  },
  {
   "cell_type": "code",
   "execution_count": 7,
   "id": "158e3527-1792-450b-b265-080338787bea",
   "metadata": {},
   "outputs": [
    {
     "name": "stdout",
     "output_type": "stream",
     "text": [
      "5\n"
     ]
    }
   ],
   "source": [
    "str = \"Random string with some text.\"\n",
    "print(len(str.split()))"
   ]
  },
  {
   "cell_type": "markdown",
   "id": "b9bf67a4-d345-419c-90a5-c6716c74f7e6",
   "metadata": {},
   "source": [
    "## Задание 3"
   ]
  },
  {
   "cell_type": "code",
   "execution_count": 12,
   "id": "16bfd3dd-4567-4b8c-86d1-36debab43839",
   "metadata": {},
   "outputs": [
    {
     "name": "stdout",
     "output_type": "stream",
     "text": [
      "Rand%om s%tring %with some tex%t.\n",
      "4\n"
     ]
    }
   ],
   "source": [
    "str = \"Rand:om s:tring :with some tex:t.\"\n",
    "count = str.count(':')\n",
    "\n",
    "str = str.replace(':', '%') \n",
    "print(str, count, sep='\\n')"
   ]
  },
  {
   "cell_type": "markdown",
   "id": "64e5feed-7596-40fa-85e5-1ad56cd7d0f2",
   "metadata": {},
   "source": [
    "# Списки"
   ]
  },
  {
   "cell_type": "markdown",
   "id": "be8af519-d8e3-44d8-8b08-cd3e8853716e",
   "metadata": {},
   "source": [
    "## Задание 4"
   ]
  },
  {
   "cell_type": "code",
   "execution_count": 38,
   "id": "82c1a19e-fb82-4211-a639-bb2d7b6cc2df",
   "metadata": {},
   "outputs": [
    {
     "name": "stdout",
     "output_type": "stream",
     "text": [
      "Меньше максимального: 7 \n",
      "Больше максимального: 0\n"
     ]
    }
   ],
   "source": [
    "### 4.1\n",
    "arr = [1, 2, 3, 4, 10, 6, 10, 8, 9, 10]\n",
    "print(\"Меньше максимального:\", len(arr) - arr.count(max(arr)), \"\\nБольше максимального:\", 0)"
   ]
  },
  {
   "cell_type": "code",
   "execution_count": 39,
   "id": "458e2376-0d44-4526-9a7d-88c67fc5c28c",
   "metadata": {},
   "outputs": [
    {
     "name": "stdin",
     "output_type": "stream",
     "text": [
      "Enter numbers:  1 2 3 4 5 6 7 8 9 10\n"
     ]
    },
    {
     "name": "stdout",
     "output_type": "stream",
     "text": [
      "40\n"
     ]
    }
   ],
   "source": [
    "### 4.2\n",
    "numbers = input(\"Enter numbers: \")\n",
    "numbers = list(map(int, numbers.split()))\n",
    "print(sum([num for num in numbers if num > 5]))"
   ]
  },
  {
   "cell_type": "markdown",
   "id": "05c837e3-102b-4664-9b47-4a69b563b189",
   "metadata": {},
   "source": [
    "## Задание 5"
   ]
  },
  {
   "cell_type": "code",
   "execution_count": 2,
   "id": "99d508d8-6199-4003-b175-e23cbab9fc79",
   "metadata": {},
   "outputs": [
    {
     "name": "stdin",
     "output_type": "stream",
     "text": [
      "Enter nums:  1.1 -1.0 -3.22 1.0 0.05 2.1\n"
     ]
    },
    {
     "name": "stdout",
     "output_type": "stream",
     "text": [
      "Min number: 0.05\n",
      "[2.1, 0.05, 1.0, -3.22, -1.0, 1.1]\n"
     ]
    }
   ],
   "source": [
    "### 5.1\n",
    "nums = input(\"Enter nums: \")\n",
    "nums = list(map(float, nums.split()))\n",
    "print(\"Min number:\", min(map(abs, nums)))\n",
    "print(list(reversed(nums)))"
   ]
  },
  {
   "cell_type": "code",
   "execution_count": 7,
   "id": "d458eedc-95aa-4ccd-9a4e-8d6f74573ac3",
   "metadata": {},
   "outputs": [
    {
     "name": "stdout",
     "output_type": "stream",
     "text": [
      "[1, 2, 3, 4, 5, 6, 7, 8, 9, 10]\n",
      "[11, 12, 13, 14, 15, 16, 17, 18, 19, 20]\n",
      "\n",
      "\n",
      "[11, 12, 13, 14, 15, 16, 17, 18, 19, 20]\n",
      "[1, 2, 3, 4, 5, 6, 7, 8, 9, 10]\n"
     ]
    }
   ],
   "source": [
    "### 5.2\n",
    "A = [i for i in range(1, 11)]\n",
    "B = [i for i in range(11, 21)]\n",
    "print(A, B, sep='\\n')\n",
    "A, B = B, A\n",
    "print('\\n', A, B, sep='\\n')"
   ]
  },
  {
   "cell_type": "markdown",
   "id": "855a558b-c529-439d-bff3-f8fa914a3bd5",
   "metadata": {},
   "source": [
    "# Функции"
   ]
  },
  {
   "cell_type": "markdown",
   "id": "08dc2026-9ca3-4007-a228-09b409e4bd20",
   "metadata": {},
   "source": [
    "## Задание 6"
   ]
  },
  {
   "cell_type": "code",
   "execution_count": 52,
   "id": "740cfffa-30d6-4f36-b0a6-968982ee271c",
   "metadata": {},
   "outputs": [
    {
     "name": "stdout",
     "output_type": "stream",
     "text": [
      "10.825317547305481\n",
      "25\n",
      "20\n",
      "78.53981633974483\n"
     ]
    }
   ],
   "source": [
    "### 6.1 \n",
    "\n",
    "from numpy import pi\n",
    "\n",
    "def getSquare(type, params):\n",
    "    match type:\n",
    "        case 'T':\n",
    "            return 3**(1/2) / 4 * params[0] * params[0]\n",
    "        case 'S':\n",
    "            return params[0] * params[0]\n",
    "        case 'R':\n",
    "            return params[0] * params[1]\n",
    "        case 'C':\n",
    "            return pi * params[0] * params[0]\n",
    "\n",
    "\n",
    "print(square('T', [5]))\n",
    "print(square('S', [5]))\n",
    "print(square('R', [4, 5]))\n",
    "print(square('C', [5]))"
   ]
  },
  {
   "cell_type": "code",
   "execution_count": 51,
   "id": "50d99bf5-5439-4d5a-8938-6a7f9b520a6d",
   "metadata": {},
   "outputs": [
    {
     "name": "stdout",
     "output_type": "stream",
     "text": [
      "21 3.5\n",
      "124836 12483.6\n",
      "10393194.561200002 1732199.0935333336\n"
     ]
    }
   ],
   "source": [
    "### 6.2\n",
    "\n",
    "from numpy import mean\n",
    "\n",
    "arrs = [[1, 2, 3, 4, 5, 6], \\\n",
    "        [3242, 14, 413, 4264, 98324, 1284, 19, 1904, 13940, 1432], \\\n",
    "        [4423.423, 4325432.534, 89345.502, 5439052.2950, 534590.9052, 349.902]]\n",
    "\n",
    "for arr in arrs:\n",
    "    print(sum(arr), mean(arr))"
   ]
  },
  {
   "cell_type": "markdown",
   "id": "53b77a06-c2b2-4ccf-bb06-f42910b9ae98",
   "metadata": {},
   "source": [
    "## Задание 7"
   ]
  },
  {
   "cell_type": "code",
   "execution_count": 55,
   "id": "94fe42ab-b15f-4259-849d-b9f90c5affa9",
   "metadata": {},
   "outputs": [
    {
     "name": "stdout",
     "output_type": "stream",
     "text": [
      "25 \n",
      "\n",
      "Квадрат числа 5 равен: 25\n",
      "None \n",
      "\n",
      "Квадрат числа 5 равен: 25\n",
      "25\n"
     ]
    }
   ],
   "source": [
    "def square(num, type=1):\n",
    "    sq = num * num\n",
    "    if type == 1:\n",
    "        return sq\n",
    "    elif type == 2:\n",
    "        print(f\"Квадрат числа {num} равен: {sq}\")\n",
    "    else:\n",
    "        print(f\"Квадрат числа {num} равен: {sq}\")\n",
    "        return sq\n",
    "        \n",
    "print(square(5, 1), '\\n')\n",
    "print(square(5, 2), '\\n')\n",
    "print(square(5, 3))"
   ]
  },
  {
   "cell_type": "markdown",
   "id": "16ce965f-8611-4feb-a59c-4d479efdee7b",
   "metadata": {},
   "source": [
    "## Задание 8"
   ]
  },
  {
   "cell_type": "code",
   "execution_count": 59,
   "id": "267e5781-c7f7-461a-8225-801ef0f47762",
   "metadata": {},
   "outputs": [
    {
     "name": "stdout",
     "output_type": "stream",
     "text": [
      "[6, 8]\n"
     ]
    }
   ],
   "source": [
    "def nums(num):\n",
    "    return [num-1, num+1]\n",
    "\n",
    "print(nums(7))"
   ]
  },
  {
   "cell_type": "markdown",
   "id": "07c78095-39df-4034-8762-61a0292dbce0",
   "metadata": {},
   "source": [
    "## Задание 9"
   ]
  },
  {
   "cell_type": "code",
   "execution_count": 61,
   "id": "581a5697-5779-4f70-8aa6-d65917c68894",
   "metadata": {},
   "outputs": [
    {
     "name": "stdout",
     "output_type": "stream",
     "text": [
      "['test', 'text', 'with', 'some', 'words']\n"
     ]
    }
   ],
   "source": [
    "def strLower(str):\n",
    "    return list(map(lambda s: s.lower(), str.split()))\n",
    "\n",
    "print(strLower(\"Test TEXT witH SoMe wOrDs\"))"
   ]
  },
  {
   "cell_type": "markdown",
   "id": "230977b6-0951-4084-94a8-937281232fb7",
   "metadata": {},
   "source": [
    "## Задание 10"
   ]
  },
  {
   "cell_type": "code",
   "execution_count": 62,
   "id": "7d6bf89f-1eed-4f8a-9f57-6daf04f810ec",
   "metadata": {},
   "outputs": [
    {
     "name": "stdout",
     "output_type": "stream",
     "text": [
      "[0.0, 1.0986122886681098, 0.9162907318741551, None, 2.1972245773362196, None, 0.9969486348916096]\n"
     ]
    }
   ],
   "source": [
    "from math import log\n",
    "\n",
    "def myLog(nums):\n",
    "    return list(map(lambda x: log(x) if x > 0 else None, nums))\n",
    "\n",
    "print(myLog([1, 3, 2.5, -1, 9, 0, 2.71]))"
   ]
  },
  {
   "cell_type": "markdown",
   "id": "75457386-9f49-4efe-a232-4db490cb5df8",
   "metadata": {},
   "source": [
    "## Задание 11"
   ]
  },
  {
   "cell_type": "code",
   "execution_count": 64,
   "id": "6b5cb9f3-6294-4207-ae4c-014bbc4336fc",
   "metadata": {},
   "outputs": [
    {
     "name": "stdout",
     "output_type": "stream",
     "text": [
      "[-2, 0, 1, 3, 6, 7, 8]\n"
     ]
    }
   ],
   "source": [
    "def allSort(*args):\n",
    "    nums = [num for num in args]\n",
    "    return sorted(nums)\n",
    "\n",
    "print(allSort(7, 6, 1, 3, 8, 0, -2))"
   ]
  },
  {
   "cell_type": "markdown",
   "id": "684d562d-4ae8-4913-ad8a-f9cfb699c613",
   "metadata": {},
   "source": [
    "## Задание 12"
   ]
  },
  {
   "cell_type": "code",
   "execution_count": 81,
   "id": "34a10491-7ae5-4c49-87dd-decdcb97f111",
   "metadata": {},
   "outputs": [
    {
     "name": "stdout",
     "output_type": "stream",
     "text": [
      "['speak', 'to', 'me', 'of', 'florence', 'and', 'of', 'the', 'renaissance']\n"
     ]
    }
   ],
   "source": [
    "def parseList(words):\n",
    "    words = map(lambda s: s.strip(), words)\n",
    "    words = map(lambda s: s.lower(), words)\n",
    "    return list(words)\n",
    "\n",
    "words = \"Speak to me of Florence And of the Renaissance\".split()\n",
    "print(parseList(words))"
   ]
  },
  {
   "cell_type": "markdown",
   "id": "8c9dad11-750d-4459-9359-bb86d4403b51",
   "metadata": {},
   "source": [
    "# Множества"
   ]
  },
  {
   "cell_type": "markdown",
   "id": "c1f15301-dbad-4332-a6c8-e0f438c41092",
   "metadata": {},
   "source": [
    "## Задание 13"
   ]
  },
  {
   "cell_type": "code",
   "execution_count": 98,
   "id": "33f2c45b-da92-4e8f-8b4c-ceeabfb4461e",
   "metadata": {},
   "outputs": [
    {
     "name": "stdout",
     "output_type": "stream",
     "text": [
      "Unique words in A:\n",
      " {'test', '№13', 'First'} \n",
      "Unique letters in A:\n",
      " {'№', 'r', 'i', 'F'}\n",
      "\n",
      "Unique words in B:\n",
      " {'Test', '13!', 'Second'} \n",
      "Unique letters in B:\n",
      " {'T', 'S', '!', 'd'}\n",
      "\n",
      "Letters in A and B:\n",
      " {'1', 'n', 't', ' ', 'o', 'a', 's', 'k', '3', 'e', 'c'}\n"
     ]
    }
   ],
   "source": [
    "### 13.1\n",
    "\n",
    "str1 = \"First sentence to test task №13\"\n",
    "str2 = \"Second sentence to Test task 13!\"\n",
    "\n",
    "A = set(str1.split()); a = set(str1)\n",
    "B = set(str2.split()); b = set(str2)\n",
    "print(\"Unique words in A:\\n\", A.difference(B), \"\\nUnique letters in A:\\n\", a.difference(b))\n",
    "print(\"\\nUnique words in B:\\n\", B.difference(A), \"\\nUnique letters in B:\\n\", b.difference(a))\n",
    "print(\"\\nLetters in A and B:\\n\", a.intersection(b))"
   ]
  },
  {
   "cell_type": "markdown",
   "id": "2667cc4f-611a-4fd2-be7a-4d0bb51549c9",
   "metadata": {},
   "source": [
    "# Повторение"
   ]
  },
  {
   "cell_type": "markdown",
   "id": "0b035d2b-af0e-43a8-bc73-c77fe0152a16",
   "metadata": {},
   "source": [
    "## Задание 1"
   ]
  },
  {
   "cell_type": "code",
   "execution_count": 101,
   "id": "2a72f4a2-4610-48e5-8bbd-4e7e748f7c5f",
   "metadata": {
    "scrolled": true
   },
   "outputs": [
    {
     "name": "stdin",
     "output_type": "stream",
     "text": [
      "Enter password:  423432\n"
     ]
    },
    {
     "name": "stdout",
     "output_type": "stream",
     "text": [
      "Wrong password! Try again: \n"
     ]
    },
    {
     "name": "stdin",
     "output_type": "stream",
     "text": [
      " 42314\n"
     ]
    },
    {
     "name": "stdout",
     "output_type": "stream",
     "text": [
      "Wrong password! Try again: \n"
     ]
    },
    {
     "name": "stdin",
     "output_type": "stream",
     "text": [
      " 42314\n"
     ]
    },
    {
     "name": "stdout",
     "output_type": "stream",
     "text": [
      "Wrong password! Try again: \n"
     ]
    },
    {
     "name": "stdin",
     "output_type": "stream",
     "text": [
      " 54354\n"
     ]
    },
    {
     "name": "stdout",
     "output_type": "stream",
     "text": [
      "Wrong password! Try again: \n"
     ]
    },
    {
     "name": "stdin",
     "output_type": "stream",
     "text": [
      " 65\n"
     ]
    },
    {
     "name": "stdout",
     "output_type": "stream",
     "text": [
      "Wrong password! Try again: \n"
     ]
    },
    {
     "name": "stdin",
     "output_type": "stream",
     "text": [
      " 757\n"
     ]
    },
    {
     "name": "stdout",
     "output_type": "stream",
     "text": [
      "Wrong password! Try again: \n"
     ]
    },
    {
     "name": "stdin",
     "output_type": "stream",
     "text": [
      " 8768\n"
     ]
    },
    {
     "name": "stdout",
     "output_type": "stream",
     "text": [
      "Wrong password! Try again: \n"
     ]
    },
    {
     "name": "stdin",
     "output_type": "stream",
     "text": [
      " 9786\n"
     ]
    },
    {
     "name": "stdout",
     "output_type": "stream",
     "text": [
      "Wrong password! Try again: \n"
     ]
    },
    {
     "name": "stdin",
     "output_type": "stream",
     "text": [
      " 3228\n"
     ]
    },
    {
     "name": "stdout",
     "output_type": "stream",
     "text": [
      "Login success\n"
     ]
    }
   ],
   "source": [
    "password = \"3228\"\n",
    "\n",
    "inpt = input(\"Enter password: \")\n",
    "while inpt != password:\n",
    "    print(\"Wrong password! Try again: \")\n",
    "    inpt = input()\n",
    "\n",
    "print(\"Login success\")"
   ]
  },
  {
   "cell_type": "markdown",
   "id": "a369831b-17d3-4cf8-9535-822f705a922f",
   "metadata": {},
   "source": [
    "## Задание 2"
   ]
  },
  {
   "cell_type": "code",
   "execution_count": 104,
   "id": "8c74eb11-ca42-45f9-b290-95499b923295",
   "metadata": {},
   "outputs": [
    {
     "name": "stdin",
     "output_type": "stream",
     "text": [
      "Enter number:  3\n"
     ]
    },
    {
     "name": "stdout",
     "output_type": "stream",
     "text": [
      "Number 3 was found in nums\n"
     ]
    }
   ],
   "source": [
    "numbers = [3, 7, 11, 23, 18, 48, 81]\n",
    "\n",
    "num = int(input(\"Enter number: \"))\n",
    "if num in numbers:\n",
    "    print(f\"Number {num} was found in nums\")\n",
    "else:\n",
    "    print(f\"Number {num} wasn't found in nums\")"
   ]
  },
  {
   "cell_type": "markdown",
   "id": "62742076-5353-4df9-aab6-c2b208e47d8f",
   "metadata": {},
   "source": [
    "## Задание 3"
   ]
  },
  {
   "cell_type": "code",
   "execution_count": 111,
   "id": "f1fa8ea1-a5fc-4bb8-9a83-47b91bb7f14e",
   "metadata": {},
   "outputs": [
    {
     "name": "stdin",
     "output_type": "stream",
     "text": [
      "Enter number:  8-900-123-45-67\n"
     ]
    },
    {
     "name": "stdout",
     "output_type": "stream",
     "text": [
      "89001234567\n"
     ]
    }
   ],
   "source": [
    "number = input(\"Enter number: \")\n",
    "print(number.replace('-', ''))"
   ]
  },
  {
   "cell_type": "markdown",
   "id": "64111cca-657b-4391-85d4-f4fca53763ab",
   "metadata": {},
   "source": [
    "# Задания с одной *"
   ]
  },
  {
   "cell_type": "markdown",
   "id": "a9c3a41c-b374-4cfc-a7c3-7a3d4550896a",
   "metadata": {},
   "source": [
    "## Задание 1"
   ]
  },
  {
   "cell_type": "code",
   "execution_count": 105,
   "id": "ed6e3194-f909-4073-bd65-c1c0ad664d9b",
   "metadata": {},
   "outputs": [
    {
     "name": "stdout",
     "output_type": "stream",
     "text": [
      "[[10], [7], [], [4]]\n"
     ]
    }
   ],
   "source": [
    "lists = [[1, 2, 3, 10], [1, 2, 3, 6, 7], [1, 2, 3, 6], [1, 2, 3, 4]]\n",
    "all_list=[]\n",
    "uniq=[]\n",
    "res=[]\n",
    "\n",
    "for lst in lists:\n",
    "    all_list += lst\n",
    "slov = set(all_list)\n",
    "for i in slov:\n",
    "    if all_list.count(i)==1: uniq.append(i)\n",
    "for i in lists:\n",
    "    if set(i).intersection(uniq) != []: res.append(list(set(i).intersection(uniq)))\n",
    "\n",
    "print(res)\n"
   ]
  },
  {
   "cell_type": "markdown",
   "id": "ccff3a87-469a-4830-9859-cf5e96f4ba72",
   "metadata": {},
   "source": [
    "## Задание 2"
   ]
  },
  {
   "cell_type": "code",
   "execution_count": 108,
   "id": "7f37b8d6-7f35-4ed5-b770-276cba6a08a5",
   "metadata": {},
   "outputs": [
    {
     "name": "stdout",
     "output_type": "stream",
     "text": [
      "10 6\n"
     ]
    }
   ],
   "source": [
    "def task2(lst):\n",
    "    maxLen = 0; ind = 0; cur = 0\n",
    "    for i in range(len(lst)):\n",
    "        if lst[i]:\n",
    "            cur += 1\n",
    "        else:\n",
    "            maxLen = max(cur, maxLen)\n",
    "            if maxLen == cur: ind = i-maxLen\n",
    "            cur = 0\n",
    "    maxLen = max(cur, maxLen)\n",
    "    if maxLen == cur: ind = i+1-maxLen\n",
    "    \n",
    "    print(maxLen, ind)\n",
    "\n",
    "\n",
    "lst = [1, 1, 1, 1, 1, 0, 1, 1, 1, 1, 1, 1, 1, 1, 1, 1, ]\n",
    "task2(lst)"
   ]
  },
  {
   "cell_type": "markdown",
   "id": "53344ebb-ef2c-4cf4-8098-1df972e9c00c",
   "metadata": {},
   "source": [
    "## Задание 3"
   ]
  },
  {
   "cell_type": "code",
   "execution_count": 86,
   "id": "c7693a48-0fc7-4755-870e-ca6916190623",
   "metadata": {},
   "outputs": [
    {
     "name": "stdout",
     "output_type": "stream",
     "text": [
      "T 1\n",
      "e 8\n",
      "s 4\n",
      "t 1\n",
      "a 8\n",
      "f 6\n",
      "d 3\n",
      "E 2\n"
     ]
    }
   ],
   "source": [
    "def task3(str):\n",
    "    lsts = str.split()\n",
    "    counts = dict()\n",
    "    \n",
    "    for str in lsts:\n",
    "        if \"e\" in str or \"E\" in str:\n",
    "            for letter in str:\n",
    "                counts[letter] = counts.get(letter, 0) + 1\n",
    "\n",
    "    for item in counts:\n",
    "        print(item, counts[item])\n",
    "\n",
    "str = \"Test string eafs eafsd saj;fsd eEfae sfjlj Efdasfa de eaeafa\"\n",
    "task3(str)"
   ]
  },
  {
   "cell_type": "markdown",
   "id": "c3f70965-7e31-474c-ac18-36e8bb9a79d2",
   "metadata": {},
   "source": [
    "# Задания с одной **"
   ]
  },
  {
   "cell_type": "markdown",
   "id": "7d4f8992-485c-4f7a-87a8-72bf0473c63f",
   "metadata": {},
   "source": [
    "## Задание 1"
   ]
  },
  {
   "cell_type": "code",
   "execution_count": 109,
   "id": "28663d2a-bec7-4cf5-920a-6c27c4f1dc6e",
   "metadata": {},
   "outputs": [
    {
     "ename": "IndentationError",
     "evalue": "expected an indented block after 'if' statement on line 8 (1385813858.py, line 11)",
     "output_type": "error",
     "traceback": [
      "\u001b[0;36m  Cell \u001b[0;32mIn[109], line 11\u001b[0;36m\u001b[0m\n\u001b[0;31m    str = \"assagfjdl nvhhvn1\"\u001b[0m\n\u001b[0m                             ^\u001b[0m\n\u001b[0;31mIndentationError\u001b[0m\u001b[0;31m:\u001b[0m expected an indented block after 'if' statement on line 8\n"
     ]
    }
   ],
   "source": [
    "def isPalindrome(str1, str2):\n",
    "    return str1 == str2\n",
    "\n",
    "def find_palindrome(str):\n",
    "    res = \"\"\n",
    "    pos = 0; l = 2\n",
    "    while pos < len(str) // 2:\n",
    "        if isPalindrome(str[pos:pos+l], str[pos+l+1:pos+2*l+1]):\n",
    "        \n",
    "\n",
    "str = \"assagfjdl nvhhvn1\""
   ]
  },
  {
   "cell_type": "markdown",
   "id": "8fa743f7-ef56-46b2-a7c3-7e60128f48ce",
   "metadata": {},
   "source": [
    "## Задание 2"
   ]
  },
  {
   "cell_type": "code",
   "execution_count": 119,
   "id": "b063c711-dfff-4647-9e70-9d63974cb7f1",
   "metadata": {},
   "outputs": [
    {
     "name": "stdout",
     "output_type": "stream",
     "text": [
      "True\n"
     ]
    }
   ],
   "source": [
    "def is_valid(s):\n",
    "    stack = []\n",
    "    brackets = {')': '(', '}': '{', ']': '['}\n",
    "    \n",
    "    for char in s:\n",
    "        if char in brackets.values():\n",
    "            stack.append(char)\n",
    "        elif char in brackets.keys(): \n",
    "            if not stack or stack.pop() != brackets[char]:\n",
    "                return False\n",
    "    \n",
    "    return not stack \n",
    "\n",
    "\n",
    "str = \"({}([]))[(())]\" \n",
    "result = is_valid(str)\n",
    "print(result)"
   ]
  },
  {
   "cell_type": "code",
   "execution_count": null,
   "id": "71404a7f-87ce-49a5-b800-11473fb3e019",
   "metadata": {},
   "outputs": [],
   "source": []
  }
 ],
 "metadata": {
  "kernelspec": {
   "display_name": "Python 3 (ipykernel)",
   "language": "python",
   "name": "python3"
  },
  "language_info": {
   "codemirror_mode": {
    "name": "ipython",
    "version": 3
   },
   "file_extension": ".py",
   "mimetype": "text/x-python",
   "name": "python",
   "nbconvert_exporter": "python",
   "pygments_lexer": "ipython3",
   "version": "3.10.12"
  }
 },
 "nbformat": 4,
 "nbformat_minor": 5
}
