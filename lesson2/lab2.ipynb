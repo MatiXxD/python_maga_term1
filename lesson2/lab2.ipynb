{
 "cells": [
  {
   "cell_type": "code",
   "execution_count": 16,
   "id": "b4a3b5da",
   "metadata": {},
   "outputs": [],
   "source": [
    "import math"
   ]
  },
  {
   "cell_type": "markdown",
   "id": "d9f1ed3f",
   "metadata": {},
   "source": [
    "# Задание 1"
   ]
  },
  {
   "cell_type": "code",
   "execution_count": 7,
   "id": "f1d150da",
   "metadata": {},
   "outputs": [
    {
     "name": "stdout",
     "output_type": "stream",
     "text": [
      "1:\n",
      " 1 9 127\n",
      "\n",
      "2:\n",
      " [2, 8, 9, 11, 76, 25, 44, 7]\n",
      "\n",
      "3:\n",
      " [1, 0, 9, 12, 8, 34, 89, 91, 33, 127]\n",
      "\n",
      "4:\n",
      " [1, 0, 9, 12, 8, 34, 89, 91, 33, 127, 2, 8, 9, 11, 76, 25, 44, 7]\n",
      "\n",
      "5:\n",
      " [1, 0, 9, 12, 8, 34, 89, 91, 33, 100] [1, 0, 9, 12, 8, 34, 89, 91, 33, 127]\n"
     ]
    }
   ],
   "source": [
    "a = [1, 0, 9, 12, 18, 34, 89, 91, 33, 127]\n",
    "b = [2, 8, 9, 11, 76, 25, 44]\n",
    "\n",
    "### 1.1\n",
    "print(\"1:\\n\", a[0], a[2], a[-1])\n",
    "\n",
    "### 1.2\n",
    "b.append(7)\n",
    "print(\"\\n2:\\n\", b)\n",
    "\n",
    "### 1.3\n",
    "a[4] = 8\n",
    "print(\"\\n3:\\n\", a)\n",
    "\n",
    "### 1.4\n",
    "merged = a + b\n",
    "print(\"\\n4:\\n\", merged)\n",
    "\n",
    "### 1.5\n",
    "c = a[:-1] + [100]\n",
    "print(\"\\n5:\\n\", c, a)"
   ]
  },
  {
   "cell_type": "markdown",
   "id": "a02643c1",
   "metadata": {},
   "source": [
    "# Задание 2"
   ]
  },
  {
   "cell_type": "code",
   "execution_count": 14,
   "id": "a1c775ae",
   "metadata": {},
   "outputs": [
    {
     "name": "stdout",
     "output_type": "stream",
     "text": [
      "['Виолетта', 'Кассандра', 'Вирджиния', 'Амелия']\n",
      "['Вирджиния', 'Амелия', 'Розамунда', 'Янина', 'Беатриса']\n",
      "['Иветта', 'Виолетта', 'Вирджиния', 'Амелия']\n",
      "['Кассандра', 'Амелия', 'Розамунда']\n"
     ]
    }
   ],
   "source": [
    "girls = [\"Иветта\", \"Виолетта\", \"Кассандра\", \"Вирджиния\", \"Амелия\", \"Розамунда\", \"Янина\", \"Беатриса\"]\n",
    "\n",
    "print(girls[1:5])\n",
    "print(girls[3:])\n",
    "print(girls[:2] + girls[3:5])\n",
    "print(girls[2:3] + girls[4:6])"
   ]
  },
  {
   "cell_type": "markdown",
   "id": "d2958f3f",
   "metadata": {},
   "source": [
    "# Задание 3"
   ]
  },
  {
   "cell_type": "code",
   "execution_count": 36,
   "id": "0dbf5577",
   "metadata": {},
   "outputs": [
    {
     "name": "stdout",
     "output_type": "stream",
     "text": [
      "2.4849066497880004\n",
      "1.0986122886681098\n",
      "2.0794415416798357\n",
      "4.8283137373023015\n",
      "2.302585092994046\n",
      "4.584967478670572\n",
      "3.9889840465642745\n",
      "5.293304824724492\n"
     ]
    }
   ],
   "source": [
    "L = [12, 3, 8, 125, 10, 98, 54, 199]\n",
    "L1 = list(map(math.log, L))\n",
    "print(*L1, sep='\\n')"
   ]
  },
  {
   "cell_type": "markdown",
   "id": "8d6d94a7",
   "metadata": {},
   "source": [
    "# Задание 4"
   ]
  },
  {
   "cell_type": "code",
   "execution_count": 22,
   "id": "dcf79e84",
   "metadata": {},
   "outputs": [
    {
     "name": "stdout",
     "output_type": "stream",
     "text": [
      "[576, 1225, 1764, 729, 2025, 2304, 1089]\n"
     ]
    }
   ],
   "source": [
    "age = [24, 35, 42, 27, 45, 48, 33]\n",
    "age2 = [temp*temp for temp in age]\n",
    "print(age2)"
   ]
  },
  {
   "cell_type": "markdown",
   "id": "9653f5a1",
   "metadata": {},
   "source": [
    "# Задание 5"
   ]
  },
  {
   "cell_type": "code",
   "execution_count": 24,
   "id": "bd8c46ac",
   "metadata": {},
   "outputs": [
    {
     "name": "stdout",
     "output_type": "stream",
     "text": [
      "Enter value for k: 4\n",
      "8\n"
     ]
    }
   ],
   "source": [
    "numbers = [1, 5, 6, 8, 10, 21, 25, 1, 0, -9, 9]\n",
    "k = int(input(\"Enter value for k: \"))\n",
    "if(k >= 0 and k < len(numbers)):\n",
    "    print(numbers[k-1])"
   ]
  },
  {
   "cell_type": "markdown",
   "id": "0d540947",
   "metadata": {},
   "source": [
    "# Задание 6"
   ]
  },
  {
   "cell_type": "code",
   "execution_count": 25,
   "id": "d2194583",
   "metadata": {},
   "outputs": [
    {
     "name": "stdout",
     "output_type": "stream",
     "text": [
      "5\n",
      "3\n",
      "5\n",
      "7\n"
     ]
    }
   ],
   "source": [
    "l = [1,2,3,4]\n",
    "\n",
    "for i in range(len(l)):\n",
    "    a = l[i] + l[i-1]\n",
    "    print(a)"
   ]
  },
  {
   "cell_type": "markdown",
   "id": "99e848fc",
   "metadata": {},
   "source": [
    "# Задание 7"
   ]
  },
  {
   "cell_type": "code",
   "execution_count": 32,
   "id": "bd8b135e",
   "metadata": {},
   "outputs": [
    {
     "name": "stdout",
     "output_type": "stream",
     "text": [
      "Enter number: 3228\n",
      "Positive number\n"
     ]
    }
   ],
   "source": [
    "num = int(input(\"Enter number: \"))\n",
    "if(num > 0): print(\"Positive number\")\n",
    "elif(num == 0): print(\"Zero\")\n",
    "else: print(\"Negative number\")"
   ]
  },
  {
   "cell_type": "markdown",
   "id": "b95c9cd5",
   "metadata": {},
   "source": [
    "# Задание *(1)"
   ]
  },
  {
   "cell_type": "code",
   "execution_count": 198,
   "id": "87071b56",
   "metadata": {},
   "outputs": [
    {
     "name": "stdout",
     "output_type": "stream",
     "text": [
      "['v__', 'bn_', 'nnn', '___']\n"
     ]
    }
   ],
   "source": [
    "def func1(lst):\n",
    "    if len(lst) == 0: return None\n",
    "    \n",
    "    lenLst = list(map(len, lst))\n",
    "    m = max(lenLst)\n",
    "    lenLst = [abs(i-m) for i in lenLst]\n",
    "    resLst = [lst[i] + lenLst[i] * \"_\" for i in range(len(lenLst))]\n",
    "    return resLst\n",
    "    \n",
    "lst = [\"v\", \"bn\", \"nnn\", '']\n",
    "res = func1(lst)\n",
    "print(res)"
   ]
  },
  {
   "cell_type": "markdown",
   "id": "51a417b3",
   "metadata": {},
   "source": [
    "# Задание *(2)"
   ]
  },
  {
   "cell_type": "code",
   "execution_count": 199,
   "id": "b74decc6",
   "metadata": {},
   "outputs": [
    {
     "name": "stdout",
     "output_type": "stream",
     "text": [
      "рад\n"
     ]
    }
   ],
   "source": [
    "def func2(lst):\n",
    "    if len(lst) == 0: return None\n",
    "    if len(lst) == 1: return lst[0]\n",
    "    \n",
    "    res = \"\"\n",
    "    m = min(list(map(len, lst)))\n",
    "    for i in range(m):\n",
    "        char = lst[0][i]\n",
    "        for str in lst[1:]:\n",
    "            if str[i] != char:\n",
    "                return res\n",
    "        res += char\n",
    "    \n",
    "    return res\n",
    "\n",
    "lst = ['радуга', 'радость', 'радио', 'радар']\n",
    "res = func2(lst)\n",
    "print(res)"
   ]
  },
  {
   "cell_type": "code",
   "execution_count": 202,
   "id": "cfd0cd37",
   "metadata": {},
   "outputs": [
    {
     "data": {
      "text/plain": [
       "[('р', 'р', 'р', 'р'),\n",
       " ('а', 'а', 'а', 'а'),\n",
       " ('д', 'д', 'д', 'д'),\n",
       " ('у', 'о', 'и', 'а'),\n",
       " ('г', 'с', 'о', 'р')]"
      ]
     },
     "execution_count": 202,
     "metadata": {},
     "output_type": "execute_result"
    }
   ],
   "source": [
    "list(zip(*lst))"
   ]
  },
  {
   "cell_type": "markdown",
   "id": "52b4c824",
   "metadata": {},
   "source": [
    "# Задание *(3)"
   ]
  },
  {
   "cell_type": "code",
   "execution_count": 207,
   "id": "7154468c",
   "metadata": {},
   "outputs": [
    {
     "name": "stdout",
     "output_type": "stream",
     "text": [
      "[2, 3] 1\n",
      "[4, 0, 1] 3\n",
      "[5] 8\n",
      "[4, 1] 11\n",
      "[1, 1, 0, 0, 1, 1, 1] 13\n",
      "[5] 22\n",
      "[0, 5] 23\n"
     ]
    }
   ],
   "source": [
    "def func3(lst):\n",
    "    pos1 = 0\n",
    "    pos2 = 1\n",
    "    while pos1 < len(lst) and pos2 <= len(lst):\n",
    "        temp = sum(lst[pos1:pos2])\n",
    "        if temp == 5:\n",
    "            print(lst[pos1:pos2], pos1)\n",
    "            pos1 = pos2\n",
    "            pos2 = pos1 + 1\n",
    "        elif  temp > 5:\n",
    "            pos1 += 1\n",
    "            pos2 = pos1 + 1\n",
    "        else:\n",
    "            pos2 += 1\n",
    "            \n",
    "lst = [1, 2, 3, 4, 0, 1, 0, 1, 5, 4, 3, 4, 1, 1, 1, 0, 0, 1, 1, 1, 0, 1, 5, 0, 5]\n",
    "func3(lst)"
   ]
  },
  {
   "cell_type": "markdown",
   "id": "52659077",
   "metadata": {},
   "source": [
    "# Задание *(4)"
   ]
  },
  {
   "cell_type": "code",
   "execution_count": 264,
   "id": "41b8b468",
   "metadata": {},
   "outputs": [
    {
     "name": "stdout",
     "output_type": "stream",
     "text": [
      "13\n"
     ]
    }
   ],
   "source": [
    "def func4(lst):\n",
    "    \n",
    "    maxL = 0\n",
    "    l = 0\n",
    "    index = 0\n",
    "    \n",
    "    for i in range(len(lst)):\n",
    "        if not(lst[i]):\n",
    "            l += 1\n",
    "        else:\n",
    "            l = 0\n",
    "        if l > maxL:\n",
    "            maxL = l\n",
    "            index = i\n",
    "    \n",
    "    revLst = lst.copy()\n",
    "    revLst.reverse()\n",
    "    \n",
    "    if index == len(lst) - 1:\n",
    "        return index\n",
    "    elif revLst.index(1) >= maxL // 2:\n",
    "        return len(lst) - 1\n",
    "    elif lst.index(1) == index + 1 or lst.index(1) >= maxL // 2:\n",
    "        return 0\n",
    "    else:\n",
    "        return index - maxL // 2\n",
    "            \n",
    "lst = [1, 0, 0, 0, 1, 1, 0, 1, 0, 0, 0, 1, 0, 0, 0, 0, 1, 1, 0, 0, 1, 0, 0, 0, 0, 1]\n",
    "print(func4(lst))"
   ]
  },
  {
   "cell_type": "code",
   "execution_count": null,
   "id": "11df467e",
   "metadata": {},
   "outputs": [],
   "source": []
  },
  {
   "cell_type": "code",
   "execution_count": null,
   "id": "813c9861",
   "metadata": {},
   "outputs": [],
   "source": []
  }
 ],
 "metadata": {
  "kernelspec": {
   "display_name": "Python 3 (ipykernel)",
   "language": "python",
   "name": "python3"
  },
  "language_info": {
   "codemirror_mode": {
    "name": "ipython",
    "version": 3
   },
   "file_extension": ".py",
   "mimetype": "text/x-python",
   "name": "python",
   "nbconvert_exporter": "python",
   "pygments_lexer": "ipython3",
   "version": "3.10.12"
  }
 },
 "nbformat": 4,
 "nbformat_minor": 5
}
