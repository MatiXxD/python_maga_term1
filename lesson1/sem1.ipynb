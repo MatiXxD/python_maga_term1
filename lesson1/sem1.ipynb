{
 "cells": [
  {
   "cell_type": "markdown",
   "id": "e6228f89",
   "metadata": {},
   "source": [
    "# Семинар 1"
   ]
  },
  {
   "cell_type": "code",
   "execution_count": 4,
   "id": "a6473967",
   "metadata": {},
   "outputs": [],
   "source": [
    "from math import sqrt as sq"
   ]
  },
  {
   "cell_type": "code",
   "execution_count": 5,
   "id": "2fd02cb1",
   "metadata": {},
   "outputs": [
    {
     "name": "stdout",
     "output_type": "stream",
     "text": [
      "3 , 0.2\n",
      "test 2.0\n"
     ]
    }
   ],
   "source": [
    "a = 3\n",
    "b = 0.2\n",
    "\n",
    "print(a, ',', b)\n",
    "print(\"test\", sq(4))"
   ]
  },
  {
   "cell_type": "code",
   "execution_count": 10,
   "id": "33a89b2a",
   "metadata": {},
   "outputs": [
    {
     "name": "stdout",
     "output_type": "stream",
     "text": [
      "Enter something: salam\n",
      "salam \n",
      "type: <class 'str'>\n"
     ]
    }
   ],
   "source": [
    "someInput = input(\"Enter something: \")\n",
    "print(someInput, \"\\ntype:\", type(someInput))"
   ]
  },
  {
   "cell_type": "code",
   "execution_count": null,
   "id": "c95222aa",
   "metadata": {},
   "outputs": [],
   "source": []
  },
  {
   "cell_type": "code",
   "execution_count": 11,
   "id": "e442ff56",
   "metadata": {},
   "outputs": [
    {
     "name": "stdout",
     "output_type": "stream",
     "text": [
      "Hello world!\n"
     ]
    }
   ],
   "source": [
    "print(\"Hello world!\")"
   ]
  }
 ],
 "metadata": {
  "kernelspec": {
   "display_name": "Python 3 (ipykernel)",
   "language": "python",
   "name": "python3"
  },
  "language_info": {
   "codemirror_mode": {
    "name": "ipython",
    "version": 3
   },
   "file_extension": ".py",
   "mimetype": "text/x-python",
   "name": "python",
   "nbconvert_exporter": "python",
   "pygments_lexer": "ipython3",
   "version": "3.10.12"
  }
 },
 "nbformat": 4,
 "nbformat_minor": 5
}
