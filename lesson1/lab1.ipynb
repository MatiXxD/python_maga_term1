{
 "cells": [
  {
   "cell_type": "markdown",
   "id": "bbf1a3e7",
   "metadata": {},
   "source": [
    "# Лабораторная работа 1"
   ]
  },
  {
   "cell_type": "markdown",
   "id": "e2e25100",
   "metadata": {},
   "source": [
    "## Задача 1"
   ]
  },
  {
   "cell_type": "code",
   "execution_count": 5,
   "id": "5086f120",
   "metadata": {},
   "outputs": [],
   "source": [
    "from math import log, exp, pi, sqrt"
   ]
  },
  {
   "cell_type": "code",
   "execution_count": 2,
   "id": "a281b100",
   "metadata": {
    "scrolled": false
   },
   "outputs": [
    {
     "name": "stdout",
     "output_type": "stream",
     "text": [
      "3.2188758248682006 3.0 2.9999999999999996\n"
     ]
    }
   ],
   "source": [
    "print(log(25), log(exp(3)), log(1000,10))"
   ]
  },
  {
   "cell_type": "code",
   "execution_count": 15,
   "id": "5c0e1fcd",
   "metadata": {},
   "outputs": [
    {
     "name": "stdout",
     "output_type": "stream",
     "text": [
      "31.006276680299816 228886641\n"
     ]
    }
   ],
   "source": [
    "print(pi**3, pow(123, 4))"
   ]
  },
  {
   "cell_type": "code",
   "execution_count": 7,
   "id": "7cb6cd19",
   "metadata": {},
   "outputs": [
    {
     "name": "stdout",
     "output_type": "stream",
     "text": [
      "21.42428528562855\n"
     ]
    }
   ],
   "source": [
    "print(sqrt(459))"
   ]
  },
  {
   "cell_type": "markdown",
   "id": "4468473d",
   "metadata": {},
   "source": [
    "## Задача 2"
   ]
  },
  {
   "cell_type": "code",
   "execution_count": 8,
   "id": "f74f0bdc",
   "metadata": {},
   "outputs": [
    {
     "name": "stdout",
     "output_type": "stream",
     "text": [
      "5 2\n"
     ]
    }
   ],
   "source": [
    "a = 2\n",
    "b = 5\n",
    "b, a = a, b\n",
    "print(a, b)"
   ]
  },
  {
   "cell_type": "markdown",
   "id": "713fe312",
   "metadata": {},
   "source": [
    "## Задача 3"
   ]
  },
  {
   "cell_type": "code",
   "execution_count": 11,
   "id": "eb24cabe",
   "metadata": {},
   "outputs": [
    {
     "name": "stdout",
     "output_type": "stream",
     "text": [
      "10.65\n"
     ]
    }
   ],
   "source": [
    "phis = 42352\n",
    "print(round(log(phis), 2))"
   ]
  },
  {
   "cell_type": "markdown",
   "id": "be14624e",
   "metadata": {},
   "source": [
    "## Задача 4"
   ]
  },
  {
   "cell_type": "code",
   "execution_count": 13,
   "id": "5c04c3e2",
   "metadata": {},
   "outputs": [
    {
     "name": "stdout",
     "output_type": "stream",
     "text": [
      "Enter x1: 1\n",
      "Enter x2: 1\n",
      "1.0\n"
     ]
    }
   ],
   "source": [
    "x1 = float(input(\"Enter x1: \"))\n",
    "x2 = float(input(\"Enter x2: \"))\n",
    "print(0.4*x1 + 0.6*x2)"
   ]
  },
  {
   "cell_type": "markdown",
   "id": "d2c0d65a",
   "metadata": {},
   "source": [
    "## Задача 5"
   ]
  },
  {
   "cell_type": "code",
   "execution_count": 16,
   "id": "6eeb9b00",
   "metadata": {},
   "outputs": [
    {
     "name": "stdout",
     "output_type": "stream",
     "text": [
      "Enter name: ivan\n",
      "Enter lastname: shishkov\n",
      "ivan shishkov, welcome\n"
     ]
    }
   ],
   "source": [
    "name = input(\"Enter name: \")\n",
    "lastname = input(\"Enter lastname: \")\n",
    "print(name + ' ' + lastname + \", welcome\")"
   ]
  },
  {
   "cell_type": "code",
   "execution_count": null,
   "id": "a4d7e307",
   "metadata": {},
   "outputs": [],
   "source": []
  }
 ],
 "metadata": {
  "kernelspec": {
   "display_name": "Python 3 (ipykernel)",
   "language": "python",
   "name": "python3"
  },
  "language_info": {
   "codemirror_mode": {
    "name": "ipython",
    "version": 3
   },
   "file_extension": ".py",
   "mimetype": "text/x-python",
   "name": "python",
   "nbconvert_exporter": "python",
   "pygments_lexer": "ipython3",
   "version": "3.10.12"
  }
 },
 "nbformat": 4,
 "nbformat_minor": 5
}
