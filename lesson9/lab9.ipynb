{
 "cells": [
  {
   "cell_type": "code",
   "execution_count": 90,
   "id": "732a3f14",
   "metadata": {},
   "outputs": [],
   "source": [
    "import csv\n",
    "import pandas as pd\n",
    "import numpy as np"
   ]
  },
  {
   "cell_type": "code",
   "execution_count": 28,
   "id": "fc643cd7",
   "metadata": {},
   "outputs": [],
   "source": [
    "data1 = pd.read_csv(\"classifer1.csv\", index_col = 0)\n",
    "data2 = pd.read_csv(\"classifer2.csv\", index_col = 0)"
   ]
  },
  {
   "cell_type": "code",
   "execution_count": 44,
   "id": "877885d1",
   "metadata": {},
   "outputs": [
    {
     "data": {
      "text/html": [
       "<div>\n",
       "<style scoped>\n",
       "    .dataframe tbody tr th:only-of-type {\n",
       "        vertical-align: middle;\n",
       "    }\n",
       "\n",
       "    .dataframe tbody tr th {\n",
       "        vertical-align: top;\n",
       "    }\n",
       "\n",
       "    .dataframe thead th {\n",
       "        text-align: right;\n",
       "    }\n",
       "</style>\n",
       "<table border=\"1\" class=\"dataframe\">\n",
       "  <thead>\n",
       "    <tr style=\"text-align: right;\">\n",
       "      <th></th>\n",
       "      <th>image_id</th>\n",
       "      <th>Gauss_filter</th>\n",
       "      <th>feature_extraction</th>\n",
       "      <th>predict</th>\n",
       "      <th>target</th>\n",
       "    </tr>\n",
       "  </thead>\n",
       "  <tbody>\n",
       "    <tr>\n",
       "      <th>0</th>\n",
       "      <td>0</td>\n",
       "      <td>0.1</td>\n",
       "      <td>Haar</td>\n",
       "      <td>0</td>\n",
       "      <td>1</td>\n",
       "    </tr>\n",
       "    <tr>\n",
       "      <th>1</th>\n",
       "      <td>0</td>\n",
       "      <td>0.3</td>\n",
       "      <td>Haar</td>\n",
       "      <td>1</td>\n",
       "      <td>0</td>\n",
       "    </tr>\n",
       "    <tr>\n",
       "      <th>2</th>\n",
       "      <td>0</td>\n",
       "      <td>0.5</td>\n",
       "      <td>Haar</td>\n",
       "      <td>1</td>\n",
       "      <td>1</td>\n",
       "    </tr>\n",
       "    <tr>\n",
       "      <th>3</th>\n",
       "      <td>0</td>\n",
       "      <td>0.7</td>\n",
       "      <td>Haar</td>\n",
       "      <td>0</td>\n",
       "      <td>1</td>\n",
       "    </tr>\n",
       "    <tr>\n",
       "      <th>4</th>\n",
       "      <td>0</td>\n",
       "      <td>0.1</td>\n",
       "      <td>Gabor</td>\n",
       "      <td>0</td>\n",
       "      <td>0</td>\n",
       "    </tr>\n",
       "    <tr>\n",
       "      <th>...</th>\n",
       "      <td>...</td>\n",
       "      <td>...</td>\n",
       "      <td>...</td>\n",
       "      <td>...</td>\n",
       "      <td>...</td>\n",
       "    </tr>\n",
       "    <tr>\n",
       "      <th>1595</th>\n",
       "      <td>99</td>\n",
       "      <td>0.7</td>\n",
       "      <td>LBP</td>\n",
       "      <td>0</td>\n",
       "      <td>1</td>\n",
       "    </tr>\n",
       "    <tr>\n",
       "      <th>1596</th>\n",
       "      <td>99</td>\n",
       "      <td>0.1</td>\n",
       "      <td>HOG</td>\n",
       "      <td>1</td>\n",
       "      <td>0</td>\n",
       "    </tr>\n",
       "    <tr>\n",
       "      <th>1597</th>\n",
       "      <td>99</td>\n",
       "      <td>0.3</td>\n",
       "      <td>HOG</td>\n",
       "      <td>0</td>\n",
       "      <td>0</td>\n",
       "    </tr>\n",
       "    <tr>\n",
       "      <th>1598</th>\n",
       "      <td>99</td>\n",
       "      <td>0.5</td>\n",
       "      <td>HOG</td>\n",
       "      <td>1</td>\n",
       "      <td>1</td>\n",
       "    </tr>\n",
       "    <tr>\n",
       "      <th>1599</th>\n",
       "      <td>99</td>\n",
       "      <td>0.7</td>\n",
       "      <td>HOG</td>\n",
       "      <td>1</td>\n",
       "      <td>1</td>\n",
       "    </tr>\n",
       "  </tbody>\n",
       "</table>\n",
       "<p>1600 rows × 5 columns</p>\n",
       "</div>"
      ],
      "text/plain": [
       "      image_id  Gauss_filter feature_extraction  predict  target\n",
       "0            0           0.1               Haar        0       1\n",
       "1            0           0.3               Haar        1       0\n",
       "2            0           0.5               Haar        1       1\n",
       "3            0           0.7               Haar        0       1\n",
       "4            0           0.1              Gabor        0       0\n",
       "...        ...           ...                ...      ...     ...\n",
       "1595        99           0.7                LBP        0       1\n",
       "1596        99           0.1                HOG        1       0\n",
       "1597        99           0.3                HOG        0       0\n",
       "1598        99           0.5                HOG        1       1\n",
       "1599        99           0.7                HOG        1       1\n",
       "\n",
       "[1600 rows x 5 columns]"
      ]
     },
     "execution_count": 44,
     "metadata": {},
     "output_type": "execute_result"
    }
   ],
   "source": [
    "data1"
   ]
  },
  {
   "cell_type": "markdown",
   "id": "f546553e",
   "metadata": {},
   "source": [
    "## Задача 1.1"
   ]
  },
  {
   "cell_type": "code",
   "execution_count": 73,
   "id": "78c059b5",
   "metadata": {},
   "outputs": [
    {
     "name": "stdout",
     "output_type": "stream",
     "text": [
      "100 100\n"
     ]
    }
   ],
   "source": [
    "max1 = 1 + max(data1[\"image_id\"])\n",
    "max2 = 1 + max(data2[\"image_id\"])\n",
    "print(max1, max2)"
   ]
  },
  {
   "cell_type": "markdown",
   "id": "9158bb93",
   "metadata": {},
   "source": [
    "## Задача 1.2"
   ]
  },
  {
   "cell_type": "code",
   "execution_count": 74,
   "id": "4382f715",
   "metadata": {},
   "outputs": [
    {
     "name": "stdout",
     "output_type": "stream",
     "text": [
      "Data1: 0-40 1-60\n",
      "Data2: 0-40 1-60\n"
     ]
    }
   ],
   "source": [
    "zeroCount1 = 0\n",
    "zeroCount2 = 0\n",
    "\n",
    "for i in range(max(data1[\"image_id\"]) + 1):\n",
    "    diff1 = len(data1[(data1[\"image_id\"] == i) & (data1[\"target\"] == 1)]) - \\\n",
    "                len(data1[(data1[\"image_id\"] == i) & (data1[\"target\"] == 0)])\n",
    "    diff2 = len(data2[(data2[\"image_id\"] == i) & (data2[\"target\"] == 1)]) - \\\n",
    "                len(data2[(data2[\"image_id\"] == i) & (data2[\"target\"] == 0)])\n",
    "\n",
    "    if diff1 < 0:\n",
    "        zeroCount1 += 1\n",
    "    if diff2 < 0:\n",
    "        zeroCount2 += 1\n",
    "\n",
    "print(f\"Data1: 0-{zeroCount1} 1-{max1-zeroCount1}\\nData2: 0-{zeroCount2} 1-{max2-zeroCount2}\")"
   ]
  },
  {
   "cell_type": "markdown",
   "id": "c1d4a6bd",
   "metadata": {},
   "source": [
    "## Задача 2"
   ]
  },
  {
   "cell_type": "code",
   "execution_count": 71,
   "id": "db25d991",
   "metadata": {},
   "outputs": [
    {
     "name": "stdout",
     "output_type": "stream",
     "text": [
      "[60, 'LBP', 0.3]\n"
     ]
    }
   ],
   "source": [
    "features1 = list(data1[\"feature_extraction\"].unique())\n",
    "gaus1 = list(data1[\"Gauss_filter\"].unique())\n",
    "\n",
    "bestParams = [0, \"\", \"\"]\n",
    "\n",
    "\n",
    "for f in features1:\n",
    "    for g in gaus1:\n",
    "        temp = data1[(data1[\"feature_extraction\"] == f) & (data1[\"Gauss_filter\"] == g)]\n",
    "        val = len(temp[temp[\"target\"] == temp[\"predict\"]])\n",
    "        if val > bestParams[0]:\n",
    "            bestParams = [val, f, g]\n",
    "            \n",
    "print(bestParams)"
   ]
  },
  {
   "cell_type": "code",
   "execution_count": 72,
   "id": "b1da2149",
   "metadata": {},
   "outputs": [
    {
     "name": "stdout",
     "output_type": "stream",
     "text": [
      "[60, 'LBP', 0.1]\n"
     ]
    }
   ],
   "source": [
    "features2 = list(data2[\"feature_extraction\"].unique())\n",
    "gaus2 = list(data2[\"Gauss_filter\"].unique())\n",
    "\n",
    "bestParams = [0, \"\", \"\"]\n",
    "\n",
    "\n",
    "for f in features2:\n",
    "    for g in gaus2:\n",
    "        temp = data2[(data2[\"feature_extraction\"] == f) & (data2[\"Gauss_filter\"] == g)]\n",
    "        val = len(temp[temp[\"target\"] == temp[\"predict\"]])\n",
    "        if val > bestParams[0]:\n",
    "            bestParams = [val, f, g]\n",
    "            \n",
    "print(bestParams)"
   ]
  },
  {
   "cell_type": "markdown",
   "id": "277c9b82",
   "metadata": {},
   "source": [
    "## Задача 3"
   ]
  },
  {
   "cell_type": "code",
   "execution_count": 129,
   "id": "d29325e4",
   "metadata": {},
   "outputs": [],
   "source": [
    "def func(path, feature):\n",
    "    data1 = pd.read_csv(path + \"classifer1.csv\", index_col = 0)\n",
    "    data2 = pd.read_csv(path + \"classifer2.csv\", index_col = 0)\n",
    "    \n",
    "    data1 = data1[data1[\"feature_extraction\"] == feature]\n",
    "    data2 = data2[data2[\"feature_extraction\"] == feature]\n",
    "    gaus = list(data[\"Gauss_filter\"].unique())\n",
    "    \n",
    "    res = [[], []]\n",
    "    for g in gaus:\n",
    "        temp1 = data1[data1[\"Gauss_filter\"] == g]\n",
    "        temp2 = data2[data2[\"Gauss_filter\"] == g]\n",
    "        \n",
    "        val1 = len(temp1[temp1[\"target\"] == temp1[\"predict\"]]) / len(temp1[\"target\"])\n",
    "        val2 = len(temp2[temp2[\"target\"] == temp2[\"predict\"]]) / len(temp2[\"target\"])\n",
    "        \n",
    "        res[0].append(val1)\n",
    "        res[1].append(val2)\n",
    "\n",
    "\n",
    "    df = pd.DataFrame(data = res,\n",
    "                      index = [\"model_1\", \"model_2\"],\n",
    "                      columns = gaus)\n",
    "    return df"
   ]
  },
  {
   "cell_type": "code",
   "execution_count": 130,
   "id": "35993e33",
   "metadata": {},
   "outputs": [
    {
     "data": {
      "text/html": [
       "<div>\n",
       "<style scoped>\n",
       "    .dataframe tbody tr th:only-of-type {\n",
       "        vertical-align: middle;\n",
       "    }\n",
       "\n",
       "    .dataframe tbody tr th {\n",
       "        vertical-align: top;\n",
       "    }\n",
       "\n",
       "    .dataframe thead th {\n",
       "        text-align: right;\n",
       "    }\n",
       "</style>\n",
       "<table border=\"1\" class=\"dataframe\">\n",
       "  <thead>\n",
       "    <tr style=\"text-align: right;\">\n",
       "      <th></th>\n",
       "      <th>0.1</th>\n",
       "      <th>0.3</th>\n",
       "      <th>0.5</th>\n",
       "      <th>0.7</th>\n",
       "    </tr>\n",
       "  </thead>\n",
       "  <tbody>\n",
       "    <tr>\n",
       "      <th>model_1</th>\n",
       "      <td>0.49</td>\n",
       "      <td>0.54</td>\n",
       "      <td>0.57</td>\n",
       "      <td>0.49</td>\n",
       "    </tr>\n",
       "    <tr>\n",
       "      <th>model_2</th>\n",
       "      <td>0.48</td>\n",
       "      <td>0.41</td>\n",
       "      <td>0.47</td>\n",
       "      <td>0.51</td>\n",
       "    </tr>\n",
       "  </tbody>\n",
       "</table>\n",
       "</div>"
      ],
      "text/plain": [
       "          0.1   0.3   0.5   0.7\n",
       "model_1  0.49  0.54  0.57  0.49\n",
       "model_2  0.48  0.41  0.47  0.51"
      ]
     },
     "execution_count": 130,
     "metadata": {},
     "output_type": "execute_result"
    }
   ],
   "source": [
    "df = func(\"\", \"Gabor\")\n",
    "df"
   ]
  },
  {
   "cell_type": "code",
   "execution_count": null,
   "id": "37f52896",
   "metadata": {},
   "outputs": [],
   "source": []
  },
  {
   "cell_type": "code",
   "execution_count": null,
   "id": "a9a7c073",
   "metadata": {},
   "outputs": [],
   "source": []
  },
  {
   "cell_type": "code",
   "execution_count": null,
   "id": "a233d452",
   "metadata": {},
   "outputs": [],
   "source": []
  }
 ],
 "metadata": {
  "kernelspec": {
   "display_name": "Python 3 (ipykernel)",
   "language": "python",
   "name": "python3"
  },
  "language_info": {
   "codemirror_mode": {
    "name": "ipython",
    "version": 3
   },
   "file_extension": ".py",
   "mimetype": "text/x-python",
   "name": "python",
   "nbconvert_exporter": "python",
   "pygments_lexer": "ipython3",
   "version": "3.10.13"
  }
 },
 "nbformat": 4,
 "nbformat_minor": 5
}
